{
 "cells": [
  {
   "cell_type": "code",
   "execution_count": 27,
   "metadata": {},
   "outputs": [],
   "source": [
    "from pinecone import Pinecone,ServerlessSpec\n",
    "import os\n",
    "import dotenv\n",
    "import time\n",
    "dotenv.load_dotenv()\n",
    "from openai import OpenAI\n",
    "import pandas as pd"
   ]
  },
  {
   "cell_type": "code",
   "execution_count": 4,
   "metadata": {},
   "outputs": [],
   "source": [
    "token = os.getenv(\"RUNPOD_TOKEN\")\n",
    "open_ai_base_url = os.getenv(\"RUNPOD_EMBEDDING_URL\")\n",
    "model_name = os.getenv(\"MODEL_NAME\")\n",
    "Pinecone_api_key = os.getenv(\"PINECONE_API_KEY\")\n",
    "index_name = os.getenv(\"PINECONE_INDEX_NAME\")"
   ]
  },
  {
   "cell_type": "code",
   "execution_count": 5,
   "metadata": {},
   "outputs": [],
   "source": [
    "pc = Pinecone(api_key=Pinecone_api_key)\n",
    "client = OpenAI(\n",
    "    api_key=token,\n",
    "    base_url=open_ai_base_url\n",
    ")"
   ]
  },
  {
   "cell_type": "markdown",
   "metadata": {},
   "source": [
    "# Try out embedding"
   ]
  },
  {
   "cell_type": "code",
   "execution_count": 6,
   "metadata": {},
   "outputs": [
    {
     "name": "stdout",
     "output_type": "stream",
     "text": [
      "[-0.0034090846311300993, -0.011942288838326931, 0.0417560413479805, -0.03821532428264618, 0.02428138256072998, 0.013712647370994091, 0.010973170399665833, 0.0481049120426178, 0.02124430239200592, 0.0142391761764884, -0.0030962196178734303, -0.03845951333642006, 0.00943173747509718, 0.04923427850008011, 0.038154277950525284, 0.022419452667236328, 0.035346124321222305, -0.013048762455582619, -0.1088465228676796, -0.020649094134569168, 0.10616046190261841, 0.04743339866399765, -0.02048121578991413, -0.04987527057528496, 0.0010606888681650162, -0.015276972204446793, -0.014643611386418343, 0.035498738288879395, -0.001640633912757039, -0.17605909705162048, -0.013804217800498009, -0.011927027255296707, 0.09682029485702515, -0.010431379079818726, 0.03757433220744133, -0.018237745389342308, -0.0025963985826820135, 0.047769155353307724, -0.04456419497728348, 0.008119230158627033, 0.041939180344343185, -0.012537495233118534, -0.0015004170127213001, -0.009607247076928616, 0.014063666574656963, -0.03577344864606857, -0.015406697057187557, 0.041817087680101395, -0.050424691289663315, 0.01183545682579279, -0.05402645841240883, -0.033575765788555145, -0.010904492810368538, -0.005883389618247747, 0.05246976390480995, 0.070875383913517, 0.049539513885974884, 0.013361628167331219, 0.026509592309594154, 0.00594443641602993, 0.042824361473321915, 0.028356259688735008, -0.11971285939216614, 0.06739571690559387, 0.007730056531727314, -0.02100011333823204, 0.007722425740212202, 0.02806628681719303, -0.03150017186999321, -0.023976147174835205, -0.022953612729907036, 0.008264216594398022, -0.0009219027124345303, 0.05011945962905884, 0.008424464613199234, -0.01874138042330742, 0.02327410876750946, -0.040046729147434235, 0.003203051630407572, -0.026219619438052177, -0.04526623338460922, 0.03617025539278984, 0.02440347522497177, -0.022221051156520844, -0.0354071706533432, -0.028737802058458328, -0.032568491995334625, 0.01796303316950798, -0.04364849254488945, -0.009416475892066956, -0.0016787882195785642, -0.03754380717873573, -0.02884463407099247, 7.68450991017744e-05, -0.05366017669439316, -0.003325145225971937, 0.012346724048256874, 0.006783830467611551, -0.04779968038201332, 0.4048626720905304, -0.06379394978284836, 0.0029111714102327824, 0.09120398759841919, -0.08003241568803787, 0.03913102671504021, 0.013247164897620678, 0.0027299385983496904, -0.019077138975262642, -0.0036132100503891706, 0.019962318241596222, 0.020847497507929802, -0.033087387681007385, 0.0543927364051342, -0.0076537481509149075, 0.009248596616089344, -0.009202811866998672, 0.04502204805612564, 0.0074324533343315125, 0.11666052043437958, -0.02263311669230461, 0.031225459650158882, 0.004559436347335577, 0.002983664395287633, 0.002838678192347288, 0.06470965594053268, -0.06470965594053268, 0.04526623338460922, 0.06562535464763641, -0.009729340672492981, 0.08497720956802368, 0.019428158178925514, 0.08827373385429382, -0.04630403220653534, 0.012316200882196426, 0.01785620115697384, -0.01100369356572628, -0.027013229206204414, -0.011034216731786728, 0.015643253922462463, -0.020725402981042862, -0.024769756942987442, -0.06843350827693939, -0.024128764867782593, -0.10194823145866394, -0.03626182675361633, 0.012377247214317322, -0.0619930699467659, 0.020710142329335213, -0.010515319183468819, 0.03833741694688797, -0.0518287718296051, 0.029653504490852356, -0.005734588019549847, -0.03678072243928909, 0.019519727677106857, 0.008729699067771435, 0.019397635012865067, 0.05982590839266777, 0.010538211092352867, -0.002489566570147872, -0.002296887570992112, -0.033575765788555145, -0.06089422479271889, -0.01360581535845995, -0.010553472675383091, -0.1605532020330429, 0.015750085934996605, 0.017505181953310966, -0.02620435692369938, -0.03589554503560066, -0.015780609101057053, -0.004692975897341967, -0.07698006927967072, 0.05301918461918831, 0.10023891925811768, 0.04596827179193497, -0.0035254552494734526, 0.022694164887070656, -0.028646230697631836, 0.030706562101840973, 0.037879567593336105, -0.022327883169054985, -0.01607058197259903, 0.013117440976202488, -0.010164299048483372, -0.06138260290026665, -0.012148321606218815, 0.007760580163449049, 0.0493563748896122, 0.08314580470323563, -0.033697858452796936, -0.020084410905838013, -0.011209726333618164, -0.039924636483192444, -0.04544937610626221, -0.012384878471493721, 0.04489995166659355, -0.03760485723614693, 0.019779177382588387, -0.024388214573264122, 0.13088443875312805, -0.014658872969448566, 0.0077186101116240025, 0.040046729147434235, 0.008004767820239067, -0.0025582443922758102, 0.05903229862451553, 0.008531296625733376, -0.006764753255993128, 0.01258328091353178, -0.039924636483192444, -0.017032070085406303, 0.10805291682481766, 0.031958021223545074, 0.03388099744915962, -0.030294496566057205, -0.038520559668540955, 0.05604100227355957, -0.0029855722095817327, 0.02049647830426693, -0.009805649518966675, -0.004055799450725317, -0.04602932184934616, -0.2793503701686859, 0.017901986837387085, -0.004479312337934971, 0.008439726196229458, -0.007630855310708284, 0.0016673419158905745, 0.05427064374089241, -0.017886724323034286, 0.09682029485702515, -0.005864312406629324, 0.07154689729213715, -0.06138260290026665, 0.01617741398513317, -0.04489995166659355, -0.007264574524015188, -0.011736256070435047, -0.007543100509792566, 0.0057803732343018055, -0.0016654342180117965, -0.0405045822262764, -0.007756764534860849, 0.023304631933569908, 0.05454535409808159, -0.04160342365503311, 0.00736759090796113, -0.049905795603990555, 0.11849192529916763, 0.14236123859882355, 0.03099653497338295, 0.03781852126121521, 0.013941572979092598, 0.006543458439409733, -0.03458303585648537, -0.10811395943164825, -0.01005746703594923, 0.05930700898170471, -0.02872253954410553, -0.06147417053580284, -0.08412255346775055, 0.014460471458733082, -0.0027261232025921345, 0.05930700898170471, -0.012148321606218815, -0.015643253922462463, -0.021656367927789688, -0.062420397996902466, -0.06507593393325806, -0.006264932453632355, -0.050272077322006226, 0.004429711494594812, 0.023854054510593414, 0.007722425740212202, 0.027135321870446205, 0.07942194491624832, -0.001467032008804381, 0.003544532461091876, -0.01449099462479353, -0.00613902322947979, 0.007672825362533331, 0.025838077068328857, -0.01961129903793335, -0.010667935945093632, -0.026082264259457588, -0.004376295488327742, 0.0028653861954808235, 0.03845951333642006, -0.0720963254570961, -0.03150017186999321, 0.070875383913517, -0.006116130854934454, -0.03983306512236595, -0.01492595300078392, 0.017627276480197906, -0.012857991270720959, 0.022617856040596962, 0.007787288166582584, -0.016513170674443245, -0.0027337539941072464, -0.033606287091970444, -0.026265405118465424, 0.011598899960517883, -0.024815542623400688, 0.03733014315366745, 0.009798018261790276, 0.022236313670873642, 0.06928816437721252, 0.04267174378037453, 0.003813520073890686, 0.02354881912469864, -0.02379300817847252, -0.026341713964939117, 0.013086916878819466, 0.0010749967768788338, -0.06562535464763641, 0.020389646291732788, -0.033697858452796936, -0.29424577951431274, 0.04007725417613983, 0.023335155099630356, 0.022724688053131104, -0.016665788367390633, 0.022495761513710022, 0.023472512140870094, -0.009393583051860332, -0.033453669399023056, 0.025578627362847328, -0.07685797661542892, 0.009500415064394474, -0.018161436542868614, -0.04065719619393349, 0.004361033905297518, 0.008691544644534588, -0.002485751174390316, -0.023869315162301064, -0.00790556613355875, -0.042580172419548035, -0.009981159120798111, 0.02643328346312046, 0.21280929446220398, -0.07020387053489685, 0.05753665044903755, 0.04847119376063347, 0.010332178324460983, 0.020771188661456108, 0.024983420968055725, -0.003418623236939311, -0.04517466574907303, -0.029241438955068588, 0.011873611249029636, -0.023991409689188004, 0.017779892310500145, 0.0006529150414280593, -0.04566304013133049, -0.005726957228034735, -0.00613902322947979, -0.05515582486987114, -0.04773863032460213, 0.030843917280435562, -0.024952897801995277, 0.025380225852131844, -0.008607604540884495, -0.04718920961022377, 0.004170262720435858, -0.018054604530334473, 0.037635378539562225, 0.033606287091970444, -0.022495761513710022, -0.0506078340113163, 0.01106474082916975, 0.004345772322267294, -0.012430663220584393, -0.01398735772818327, -0.0048341467045247555, 0.01473518181592226, 0.043343257158994675, -0.02695218101143837, 0.016864189878106117, -0.03388099744915962, 0.0822911486029625, 0.024769756942987442, 0.005017287563532591]\n"
     ]
    }
   ],
   "source": [
    "output= client.embeddings.create(input = [\"Hello world!\"], model = model_name)\n",
    "embeddings = output.data[0].embedding\n",
    "print(embeddings)"
   ]
  },
  {
   "cell_type": "code",
   "execution_count": 7,
   "metadata": {},
   "outputs": [
    {
     "data": {
      "text/plain": [
       "384"
      ]
     },
     "execution_count": 7,
     "metadata": {},
     "output_type": "execute_result"
    }
   ],
   "source": [
    "len(embeddings)"
   ]
  },
  {
   "cell_type": "markdown",
   "metadata": {},
   "source": [
    "# Wrangel dataset "
   ]
  },
  {
   "cell_type": "code",
   "execution_count": 8,
   "metadata": {},
   "outputs": [],
   "source": [
    "df = pd.read_json(\"products/products.jsonl\", lines=True)"
   ]
  },
  {
   "cell_type": "code",
   "execution_count": 9,
   "metadata": {},
   "outputs": [
    {
     "data": {
      "text/html": [
       "<div>\n",
       "<style scoped>\n",
       "    .dataframe tbody tr th:only-of-type {\n",
       "        vertical-align: middle;\n",
       "    }\n",
       "\n",
       "    .dataframe tbody tr th {\n",
       "        vertical-align: top;\n",
       "    }\n",
       "\n",
       "    .dataframe thead th {\n",
       "        text-align: right;\n",
       "    }\n",
       "</style>\n",
       "<table border=\"1\" class=\"dataframe\">\n",
       "  <thead>\n",
       "    <tr style=\"text-align: right;\">\n",
       "      <th></th>\n",
       "      <th>name</th>\n",
       "      <th>category</th>\n",
       "      <th>description</th>\n",
       "      <th>ingredients</th>\n",
       "      <th>price</th>\n",
       "      <th>rating</th>\n",
       "      <th>image_path</th>\n",
       "    </tr>\n",
       "  </thead>\n",
       "  <tbody>\n",
       "    <tr>\n",
       "      <th>0</th>\n",
       "      <td>Cappuccino</td>\n",
       "      <td>Coffee</td>\n",
       "      <td>A rich and creamy cappuccino made with freshly...</td>\n",
       "      <td>[Espresso, Steamed Milk, Milk Foam]</td>\n",
       "      <td>4.50</td>\n",
       "      <td>4.7</td>\n",
       "      <td>cappuccino.jpg</td>\n",
       "    </tr>\n",
       "    <tr>\n",
       "      <th>1</th>\n",
       "      <td>Jumbo Savory Scone</td>\n",
       "      <td>Bakery</td>\n",
       "      <td>Deliciously flaky and buttery, this jumbo savo...</td>\n",
       "      <td>[Flour, Butter, Cheese, Herbs, Baking Powder, ...</td>\n",
       "      <td>3.25</td>\n",
       "      <td>4.3</td>\n",
       "      <td>SavoryScone.webp</td>\n",
       "    </tr>\n",
       "    <tr>\n",
       "      <th>2</th>\n",
       "      <td>Latte</td>\n",
       "      <td>Coffee</td>\n",
       "      <td>Smooth and creamy, our latte combines rich esp...</td>\n",
       "      <td>[Espresso, Steamed Milk, Milk Foam]</td>\n",
       "      <td>4.75</td>\n",
       "      <td>4.8</td>\n",
       "      <td>Latte.jpg</td>\n",
       "    </tr>\n",
       "    <tr>\n",
       "      <th>3</th>\n",
       "      <td>Chocolate Chip Biscotti</td>\n",
       "      <td>Bakery</td>\n",
       "      <td>Crunchy and delightful, this chocolate chip bi...</td>\n",
       "      <td>[Flour, Sugar, Chocolate Chips, Eggs, Almonds,...</td>\n",
       "      <td>2.50</td>\n",
       "      <td>4.6</td>\n",
       "      <td>chocolat_biscotti.jpg</td>\n",
       "    </tr>\n",
       "    <tr>\n",
       "      <th>4</th>\n",
       "      <td>Espresso shot</td>\n",
       "      <td>Coffee</td>\n",
       "      <td>A bold shot of rich espresso, our espresso is ...</td>\n",
       "      <td>[Espresso]</td>\n",
       "      <td>2.00</td>\n",
       "      <td>4.9</td>\n",
       "      <td>Espresso_shot.webp</td>\n",
       "    </tr>\n",
       "  </tbody>\n",
       "</table>\n",
       "</div>"
      ],
      "text/plain": [
       "                      name category  \\\n",
       "0               Cappuccino   Coffee   \n",
       "1       Jumbo Savory Scone   Bakery   \n",
       "2                    Latte   Coffee   \n",
       "3  Chocolate Chip Biscotti   Bakery   \n",
       "4            Espresso shot   Coffee   \n",
       "\n",
       "                                         description  \\\n",
       "0  A rich and creamy cappuccino made with freshly...   \n",
       "1  Deliciously flaky and buttery, this jumbo savo...   \n",
       "2  Smooth and creamy, our latte combines rich esp...   \n",
       "3  Crunchy and delightful, this chocolate chip bi...   \n",
       "4  A bold shot of rich espresso, our espresso is ...   \n",
       "\n",
       "                                         ingredients  price  rating  \\\n",
       "0                [Espresso, Steamed Milk, Milk Foam]   4.50     4.7   \n",
       "1  [Flour, Butter, Cheese, Herbs, Baking Powder, ...   3.25     4.3   \n",
       "2                [Espresso, Steamed Milk, Milk Foam]   4.75     4.8   \n",
       "3  [Flour, Sugar, Chocolate Chips, Eggs, Almonds,...   2.50     4.6   \n",
       "4                                         [Espresso]   2.00     4.9   \n",
       "\n",
       "              image_path  \n",
       "0         cappuccino.jpg  \n",
       "1       SavoryScone.webp  \n",
       "2              Latte.jpg  \n",
       "3  chocolat_biscotti.jpg  \n",
       "4     Espresso_shot.webp  "
      ]
     },
     "execution_count": 9,
     "metadata": {},
     "output_type": "execute_result"
    }
   ],
   "source": [
    "df.head()"
   ]
  },
  {
   "cell_type": "code",
   "execution_count": 10,
   "metadata": {},
   "outputs": [],
   "source": [
    "df['text'] =  df['name']+\" : \"+df['description'] + \\\n",
    "                \" -- Ingredients: \" + df['ingredients'].astype(str) + \\\n",
    "                \" -- Price: \" + df['price'].astype(str) + \\\n",
    "                \" -- rating: \" + df['rating'].astype(str) "
   ]
  },
  {
   "cell_type": "code",
   "execution_count": 11,
   "metadata": {},
   "outputs": [
    {
     "data": {
      "text/plain": [
       "0    Cappuccino : A rich and creamy cappuccino made...\n",
       "1    Jumbo Savory Scone : Deliciously flaky and but...\n",
       "2    Latte : Smooth and creamy, our latte combines ...\n",
       "3    Chocolate Chip Biscotti : Crunchy and delightf...\n",
       "4    Espresso shot : A bold shot of rich espresso, ...\n",
       "Name: text, dtype: object"
      ]
     },
     "execution_count": 11,
     "metadata": {},
     "output_type": "execute_result"
    }
   ],
   "source": [
    "df['text'].head()"
   ]
  },
  {
   "cell_type": "code",
   "execution_count": 12,
   "metadata": {},
   "outputs": [],
   "source": [
    "texts = df['text'].tolist()"
   ]
  },
  {
   "cell_type": "code",
   "execution_count": 14,
   "metadata": {},
   "outputs": [
    {
     "data": {
      "text/plain": [
       "[\"Cappuccino : A rich and creamy cappuccino made with freshly brewed espresso, steamed milk, and a frothy milk cap. This delightful drink offers a perfect balance of bold coffee flavor and smooth milk, making it an ideal companion for relaxing mornings or lively conversations. -- Ingredients: ['Espresso', 'Steamed Milk', 'Milk Foam'] -- Price: 4.5 -- rating: 4.7\",\n",
       " \"Jumbo Savory Scone : Deliciously flaky and buttery, this jumbo savory scone is filled with herbs and cheese, creating a mouthwatering experience. Perfect for a hearty snack or a light lunch, it pairs beautifully with your favorite coffee or tea. -- Ingredients: ['Flour', 'Butter', 'Cheese', 'Herbs', 'Baking Powder', 'Salt'] -- Price: 3.25 -- rating: 4.3\"]"
      ]
     },
     "execution_count": 14,
     "metadata": {},
     "output_type": "execute_result"
    }
   ],
   "source": [
    "texts[:2]"
   ]
  },
  {
   "cell_type": "code",
   "execution_count": null,
   "metadata": {},
   "outputs": [],
   "source": [
    "with open('products/Merry\\'s_way_about_us.txt') as f: # Create introduce about the coffee shop\n",
    "    Merry_way_about_section = f.read()\n",
    "    \n",
    "Merry_way_about_section = \"Coffee shop Merry's Way about section: \" + Merry_way_about_section\n",
    "texts.append(Merry_way_about_section)"
   ]
  },
  {
   "cell_type": "code",
   "execution_count": null,
   "metadata": {},
   "outputs": [],
   "source": [
    "with open('products/menu_items_text.txt') as f: # Create introduce about coffeshop's menu items\n",
    "    menue_items_text = f.read()\n",
    "    \n",
    "menue_items_text = \"Menu Items: \" + menue_items_text\n",
    "texts.append(menue_items_text)"
   ]
  },
  {
   "cell_type": "markdown",
   "metadata": {},
   "source": [
    "# Generate Embeddings"
   ]
  },
  {
   "cell_type": "code",
   "execution_count": 17,
   "metadata": {},
   "outputs": [],
   "source": [
    "output = client.embeddings.create(input = texts, model = model_name)"
   ]
  },
  {
   "cell_type": "code",
   "execution_count": 18,
   "metadata": {},
   "outputs": [],
   "source": [
    "embeddings = output.data"
   ]
  },
  {
   "cell_type": "markdown",
   "metadata": {},
   "source": [
    "# Push data to database"
   ]
  },
  {
   "cell_type": "code",
   "execution_count": 26,
   "metadata": {},
   "outputs": [],
   "source": [
    "pc.create_index(\n",
    "    name=index_name,\n",
    "    dimension=384, # Replace with your model dimensions\n",
    "    metric=\"cosine\", # Replace with your model metric\n",
    "    spec=ServerlessSpec(\n",
    "        cloud=\"aws\",\n",
    "        region=\"us-east-1\"\n",
    "    ) \n",
    ")"
   ]
  },
  {
   "cell_type": "code",
   "execution_count": 31,
   "metadata": {},
   "outputs": [
    {
     "data": {
      "text/plain": [
       "{'upserted_count': 20}"
      ]
     },
     "execution_count": 31,
     "metadata": {},
     "output_type": "execute_result"
    }
   ],
   "source": [
    "while not pc.describe_index(index_name).status['ready']:\n",
    "    time.sleep(1)\n",
    "\n",
    "index = pc.Index(index_name)\n",
    "\n",
    "vectors = []\n",
    "for text, e in zip(texts, embeddings):\n",
    "    entry_id = text.split(\":\")[0].strip()\n",
    "    vectors.append({\n",
    "        \"id\": entry_id,\n",
    "        \"values\": e.embedding,\n",
    "        \"metadata\": {'text': text}\n",
    "    })\n",
    "    \n",
    "index.upsert(\n",
    "    vectors=vectors,\n",
    "    namespace=\"ns1\"\n",
    ")"
   ]
  },
  {
   "cell_type": "markdown",
   "metadata": {},
   "source": [
    "# Get closet documents"
   ]
  },
  {
   "cell_type": "code",
   "execution_count": 32,
   "metadata": {},
   "outputs": [],
   "source": [
    "output = client.embeddings.create(input = [\"Is Cappuccino lactose-free?\"],model=model_name)\n",
    "embeding = output.data[0].embedding"
   ]
  },
  {
   "cell_type": "code",
   "execution_count": 34,
   "metadata": {},
   "outputs": [
    {
     "name": "stdout",
     "output_type": "stream",
     "text": [
      "{'matches': [{'id': 'Cappuccino',\n",
      "              'metadata': {'text': 'Cappuccino : A rich and creamy cappuccino '\n",
      "                                   'made with freshly brewed espresso, steamed '\n",
      "                                   'milk, and a frothy milk cap. This '\n",
      "                                   'delightful drink offers a perfect balance '\n",
      "                                   'of bold coffee flavor and smooth milk, '\n",
      "                                   'making it an ideal companion for relaxing '\n",
      "                                   'mornings or lively conversations. -- '\n",
      "                                   \"Ingredients: ['Espresso', 'Steamed Milk', \"\n",
      "                                   \"'Milk Foam'] -- Price: 4.5 -- rating: 4.7\"},\n",
      "              'score': 0.734829128,\n",
      "              'values': []},\n",
      "             {'id': 'Sugar Free Vanilla syrup',\n",
      "              'metadata': {'text': 'Sugar Free Vanilla syrup : Enjoy the sweet '\n",
      "                                   'flavor of vanilla without the sugar, '\n",
      "                                   'making it perfect for your coffee or '\n",
      "                                   'dessert. This syrup offers a guilt-free '\n",
      "                                   'way to enhance your beverages, ensuring '\n",
      "                                   'you never miss out on flavor. -- '\n",
      "                                   \"Ingredients: ['Water', 'Natural Flavors', \"\n",
      "                                   \"'Sucralose'] -- Price: 1.5 -- rating: 4.4\"},\n",
      "              'score': 0.62536031,\n",
      "              'values': []},\n",
      "             {'id': 'Menu Items',\n",
      "              'metadata': {'text': 'Menu Items: Menu Items\\n'\n",
      "                                   '\\n'\n",
      "                                   'Cappuccino - $4.50\\n'\n",
      "                                   'Jumbo Savory Scone - $3.25\\n'\n",
      "                                   'Latte - $4.75\\n'\n",
      "                                   'Chocolate Chip Biscotti - $2.50\\n'\n",
      "                                   'Espresso shot - $2.00\\n'\n",
      "                                   'Hazelnut Biscotti - $2.75\\n'\n",
      "                                   'Chocolate Croissant - $3.75\\n'\n",
      "                                   'Dark chocolate (Drinking Chocolate) - '\n",
      "                                   '$5.00\\n'\n",
      "                                   'Cranberry Scone - $3.50\\n'\n",
      "                                   'Croissant - $3.25\\n'\n",
      "                                   'Almond Croissant - $4.00\\n'\n",
      "                                   'Ginger Biscotti - $2.50\\n'\n",
      "                                   'Oatmeal Scone - $3.25\\n'\n",
      "                                   'Ginger Scone - $3.50\\n'\n",
      "                                   'Chocolate syrup - $1.50\\n'\n",
      "                                   'Hazelnut syrup - $1.50\\n'\n",
      "                                   'Carmel syrup - $1.50\\n'\n",
      "                                   'Sugar Free Vanilla syrup - $1.50\\n'\n",
      "                                   'Dark chocolate (Packaged Chocolate) - '\n",
      "                                   '$3.00'},\n",
      "              'score': 0.612039387,\n",
      "              'values': []}],\n",
      " 'namespace': 'ns1',\n",
      " 'usage': {'read_units': 6}}\n"
     ]
    }
   ],
   "source": [
    "results = index.query(\n",
    "    namespace=\"ns1\",\n",
    "    vector=embeding,\n",
    "    top_k=3,\n",
    "    include_values=False,\n",
    "    include_metadata=True\n",
    ")\n",
    "\n",
    "print(results)"
   ]
  },
  {
   "cell_type": "code",
   "execution_count": null,
   "metadata": {},
   "outputs": [],
   "source": []
  }
 ],
 "metadata": {
  "kernelspec": {
   "display_name": "myEnv",
   "language": "python",
   "name": "python3"
  },
  "language_info": {
   "codemirror_mode": {
    "name": "ipython",
    "version": 3
   },
   "file_extension": ".py",
   "mimetype": "text/x-python",
   "name": "python",
   "nbconvert_exporter": "python",
   "pygments_lexer": "ipython3",
   "version": "3.12.4"
  }
 },
 "nbformat": 4,
 "nbformat_minor": 2
}
